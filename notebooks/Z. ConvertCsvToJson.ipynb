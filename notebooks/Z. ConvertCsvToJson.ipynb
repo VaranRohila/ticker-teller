{
 "cells": [
  {
   "cell_type": "code",
   "execution_count": 1,
   "metadata": {},
   "outputs": [],
   "source": [
    "import pandas as pd\n",
    "\n",
    "df = pd.read_csv('artilces_with_content.csv')\n",
    "\n",
    "df[[\n",
    "    'GOID',\n",
    "    'Title',\n",
    "    'Date',\n",
    "    'Content'\n",
    "]]"
   ]
  },
  {
   "cell_type": "code",
   "execution_count": 1,
   "metadata": {},
   "outputs": [],
   "source": [
    "import csv\n",
    "import json\n",
    "\n",
    "\n",
    "csv_file_path = 'artilces_with_content.csv'  # Update this to your CSV file path\n",
    "\n",
    "# Open the CSV and read data into a dictionary format\n",
    "data = []\n",
    "with open(csv_file_path, mode='r', encoding='utf-8') as csvfile:\n",
    "    reader = csv.DictReader(csvfile)\n",
    "    for row in reader:\n",
    "        data.append(row)"
   ]
  },
  {
   "cell_type": "code",
   "execution_count": 2,
   "metadata": {},
   "outputs": [],
   "source": [
    "json_file_path = 'NewsArticles.json'  # Update this to your desired JSON file path\n",
    "\n",
    "# Convert and save the dictionary list to a JSON file\n",
    "with open(json_file_path, mode='w', encoding='utf-8') as jsonfile:\n",
    "    json.dump(data, jsonfile, indent=4)  # `indent=4` for pretty printing\n"
   ]
  },
  {
   "cell_type": "code",
   "execution_count": null,
   "metadata": {},
   "outputs": [],
   "source": []
  }
 ],
 "metadata": {
  "kernelspec": {
   "display_name": "Hackathon_2024-ADjn7pna",
   "language": "python",
   "name": "python3"
  },
  "language_info": {
   "codemirror_mode": {
    "name": "ipython",
    "version": 3
   },
   "file_extension": ".py",
   "mimetype": "text/x-python",
   "name": "python",
   "nbconvert_exporter": "python",
   "pygments_lexer": "ipython3",
   "version": "3.12.1 | packaged by Anaconda, Inc. | (main, Jan 19 2024, 15:44:08) [MSC v.1916 64 bit (AMD64)]"
  },
  "vscode": {
   "interpreter": {
    "hash": "23799e209aef547641389b0291214a94bccee1058c0bbacbaa006711bc56d570"
   }
  }
 },
 "nbformat": 4,
 "nbformat_minor": 2
}
