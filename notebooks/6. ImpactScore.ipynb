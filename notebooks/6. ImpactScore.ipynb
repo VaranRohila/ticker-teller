{
 "cells": [
  {
   "cell_type": "code",
   "execution_count": 1,
   "metadata": {},
   "outputs": [],
   "source": [
    "import pandas as pd\n",
    "from datetime import date"
   ]
  },
  {
   "cell_type": "code",
   "execution_count": 2,
   "metadata": {},
   "outputs": [],
   "source": [
    "df = pd.read_json('../data/raw/StockSeries.json', orient='records')"
   ]
  },
  {
   "cell_type": "code",
   "execution_count": 3,
   "metadata": {},
   "outputs": [],
   "source": [
    "all_dfs = []\n",
    "cids = df['CID'].unique()\n",
    "\n",
    "for cid in cids:\n",
    "    filter_df = df[df['CID'] == cid].sort_values(by='Date', ascending=False)\n",
    "\n",
    "    close_values = filter_df['Close'].values.tolist()\n",
    "    ct = close_values[:-1]\n",
    "    ct_1 = close_values[1: ]\n",
    "    change_pct = [((x - y) / y) * 100 for x, y in zip(ct, ct_1)]\n",
    "\n",
    "    filter_df = filter_df.iloc[:-1, :]\n",
    "    filter_df['change_pct'] = change_pct\n",
    "    \n",
    "    all_dfs.append(filter_df)\n",
    "\n",
    "stock_pct = pd.concat(all_dfs)"
   ]
  },
  {
   "cell_type": "code",
   "execution_count": 4,
   "metadata": {},
   "outputs": [],
   "source": [
    "articles = pd.read_csv('../data/final/articles_with_llm_outputs.csv')\n",
    "articles['Date'] = pd.to_datetime(articles['Date'])"
   ]
  },
  {
   "cell_type": "code",
   "execution_count": 5,
   "metadata": {},
   "outputs": [],
   "source": [
    "dates = stock_pct[stock_pct['CID'] == 1]['Date']\n",
    "dates = pd.DataFrame(dates)"
   ]
  },
  {
   "cell_type": "code",
   "execution_count": 6,
   "metadata": {},
   "outputs": [],
   "source": [
    "def find_closest_date(rowDate):\n",
    "    dates['difference'] = dates['Date'][dates['Date'] >= rowDate] - rowDate\n",
    "    return dates.sort_values(by='difference').iloc[0, 0]"
   ]
  },
  {
   "cell_type": "code",
   "execution_count": 7,
   "metadata": {},
   "outputs": [],
   "source": [
    "# articles[~articles['Date'].isin(final['Date'])]\n",
    "\n",
    "articles.loc[~articles['Date'].isin(stock_pct['Date']), 'Date'] = articles.loc[~articles['Date'].isin(stock_pct['Date']), 'Date'].apply(find_closest_date)"
   ]
  },
  {
   "cell_type": "code",
   "execution_count": 9,
   "metadata": {},
   "outputs": [],
   "source": [
    "final = articles.merge(stock_pct.loc[:, ['CID', 'Date', 'change_pct']], on=['CID', 'Date'])\n",
    "final['impact_score'] = final['sentiment'] * final['change_pct']"
   ]
  },
  {
   "cell_type": "code",
   "execution_count": 11,
   "metadata": {},
   "outputs": [],
   "source": [
    "final.to_csv('../data/final/articles_with_llm_outputs_and_impact_score.csv', index=False)\n",
    "final.to_json('../data/final/articles_with_llm_outputs_and_impact_score.json', orient='records')"
   ]
  },
  {
   "cell_type": "code",
   "execution_count": 19,
   "metadata": {},
   "outputs": [
    {
     "data": {
      "text/html": [
       "<div>\n",
       "<style scoped>\n",
       "    .dataframe tbody tr th:only-of-type {\n",
       "        vertical-align: middle;\n",
       "    }\n",
       "\n",
       "    .dataframe tbody tr th {\n",
       "        vertical-align: top;\n",
       "    }\n",
       "\n",
       "    .dataframe thead th {\n",
       "        text-align: right;\n",
       "    }\n",
       "</style>\n",
       "<table border=\"1\" class=\"dataframe\">\n",
       "  <thead>\n",
       "    <tr style=\"text-align: right;\">\n",
       "      <th></th>\n",
       "      <th>impact_score</th>\n",
       "    </tr>\n",
       "    <tr>\n",
       "      <th>CID</th>\n",
       "      <th></th>\n",
       "    </tr>\n",
       "  </thead>\n",
       "  <tbody>\n",
       "    <tr>\n",
       "      <th>1</th>\n",
       "      <td>-0.012710</td>\n",
       "    </tr>\n",
       "    <tr>\n",
       "      <th>2</th>\n",
       "      <td>0.857826</td>\n",
       "    </tr>\n",
       "    <tr>\n",
       "      <th>3</th>\n",
       "      <td>0.029327</td>\n",
       "    </tr>\n",
       "    <tr>\n",
       "      <th>4</th>\n",
       "      <td>0.208765</td>\n",
       "    </tr>\n",
       "    <tr>\n",
       "      <th>9</th>\n",
       "      <td>0.181322</td>\n",
       "    </tr>\n",
       "    <tr>\n",
       "      <th>10</th>\n",
       "      <td>0.250989</td>\n",
       "    </tr>\n",
       "    <tr>\n",
       "      <th>11</th>\n",
       "      <td>0.285720</td>\n",
       "    </tr>\n",
       "    <tr>\n",
       "      <th>12</th>\n",
       "      <td>-0.278601</td>\n",
       "    </tr>\n",
       "    <tr>\n",
       "      <th>13</th>\n",
       "      <td>-0.080474</td>\n",
       "    </tr>\n",
       "    <tr>\n",
       "      <th>14</th>\n",
       "      <td>0.751408</td>\n",
       "    </tr>\n",
       "    <tr>\n",
       "      <th>15</th>\n",
       "      <td>0.485835</td>\n",
       "    </tr>\n",
       "    <tr>\n",
       "      <th>16</th>\n",
       "      <td>0.335734</td>\n",
       "    </tr>\n",
       "  </tbody>\n",
       "</table>\n",
       "</div>"
      ],
      "text/plain": [
       "     impact_score\n",
       "CID              \n",
       "1       -0.012710\n",
       "2        0.857826\n",
       "3        0.029327\n",
       "4        0.208765\n",
       "9        0.181322\n",
       "10       0.250989\n",
       "11       0.285720\n",
       "12      -0.278601\n",
       "13      -0.080474\n",
       "14       0.751408\n",
       "15       0.485835\n",
       "16       0.335734"
      ]
     },
     "execution_count": 19,
     "metadata": {},
     "output_type": "execute_result"
    }
   ],
   "source": [
    "final[['CID', 'impact_score']].groupby(by='CID').mean()"
   ]
  },
  {
   "cell_type": "code",
   "execution_count": 21,
   "metadata": {},
   "outputs": [
    {
     "data": {
      "text/plain": [
       "count    367.000000\n",
       "mean      -0.012710\n",
       "std        1.638085\n",
       "min       -6.172505\n",
       "25%       -0.857637\n",
       "50%        0.036620\n",
       "75%        0.866402\n",
       "max        6.172505\n",
       "Name: impact_score, dtype: float64"
      ]
     },
     "execution_count": 21,
     "metadata": {},
     "output_type": "execute_result"
    }
   ],
   "source": [
    "final[final['CID'] == 1].sort_values(by='impact_score', ascending=True)['impact_score'].describe()"
   ]
  },
  {
   "cell_type": "code",
   "execution_count": null,
   "metadata": {},
   "outputs": [],
   "source": []
  }
 ],
 "metadata": {
  "kernelspec": {
   "display_name": "gpu",
   "language": "python",
   "name": "python3"
  },
  "language_info": {
   "codemirror_mode": {
    "name": "ipython",
    "version": 3
   },
   "file_extension": ".py",
   "mimetype": "text/x-python",
   "name": "python",
   "nbconvert_exporter": "python",
   "pygments_lexer": "ipython3",
   "version": "3.9.16 (main, Mar  8 2023, 10:39:24) [MSC v.1916 64 bit (AMD64)]"
  },
  "orig_nbformat": 4,
  "vscode": {
   "interpreter": {
    "hash": "15350825b2576c7532755d17b816be6110161b0949fa4660ee9f4bb3baeba5d2"
   }
  }
 },
 "nbformat": 4,
 "nbformat_minor": 2
}
