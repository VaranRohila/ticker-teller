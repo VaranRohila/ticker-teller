{
 "cells": [
  {
   "attachments": {},
   "cell_type": "markdown",
   "metadata": {},
   "source": [
    "# Data Preprocessing"
   ]
  },
  {
   "attachments": {},
   "cell_type": "markdown",
   "metadata": {},
   "source": [
    "### Imports"
   ]
  },
  {
   "cell_type": "code",
   "execution_count": 1,
   "metadata": {},
   "outputs": [],
   "source": [
    "import pandas as pd\n",
    "import glob"
   ]
  },
  {
   "attachments": {},
   "cell_type": "markdown",
   "metadata": {},
   "source": [
    "### Preprocessing"
   ]
  },
  {
   "cell_type": "code",
   "execution_count": 2,
   "metadata": {},
   "outputs": [],
   "source": [
    "# Load All Data Content\n",
    "ds_list = glob.glob('../data/raw/*.csv')\n",
    "\n",
    "all_ds = []\n",
    "for ds in ds_list:\n",
    "    all_ds.append(pd.read_csv(ds))\n",
    "\n",
    "combine_df = pd.concat(all_ds).drop_duplicates()"
   ]
  },
  {
   "cell_type": "code",
   "execution_count": 3,
   "metadata": {},
   "outputs": [],
   "source": [
    "# Load WSJ Metadata\n",
    "meta_df = pd.read_csv('../data/meta/wsj_meta.csv')\n",
    "meta_df['Title_small'] = meta_df['Title'].apply(lambda x: x.lower())"
   ]
  },
  {
   "cell_type": "code",
   "execution_count": 4,
   "metadata": {},
   "outputs": [],
   "source": [
    "# Companies Present In Title\n",
    "COMPANIES = [\n",
    "    'jpm',\n",
    "    'goldman',\n",
    "    'mastercard',\n",
    "    'stanley',\n",
    "    'microsoft',\n",
    "    'apple',\n",
    "    'alphabet',\n",
    "    'google',\n",
    "    'salesforce',\n",
    "    'tesla',\n",
    "    'boeing',\n",
    "    r'\\bgm\\b',\n",
    "    r'\\bford\\b',\n",
    "]\n",
    "\n",
    "# Filter Metadata Based on Companies in Article Titles\n",
    "all_filter = []\n",
    "for cmp in COMPANIES:\n",
    "    all_filter.append(meta_df[meta_df['Title_small'].str.contains(cmp)])\n",
    "\n",
    "wsj_df = pd.concat(all_filter).drop_duplicates(subset='GOID')"
   ]
  },
  {
   "cell_type": "code",
   "execution_count": 5,
   "metadata": {},
   "outputs": [
    {
     "data": {
      "text/plain": [
       "4030"
      ]
     },
     "execution_count": 5,
     "metadata": {},
     "output_type": "execute_result"
    }
   ],
   "source": [
    "len(wsj_df)"
   ]
  },
  {
   "cell_type": "code",
   "execution_count": 6,
   "metadata": {},
   "outputs": [],
   "source": [
    "# Merge Content and Metadata\n",
    "articles_with_content = wsj_df.merge(combine_df, on='GOID')\n",
    "\n",
    "# Get Articles that need to be Downloaded and Save to INTERMEDIATE\n",
    "wsj_df[~wsj_df['GOID'].isin(articles_with_content['GOID'].values.tolist())].to_csv('../data/intermediate/articles_that_need_to_be_downloaded.csv', index=False)\n",
    "\n",
    "# Save Articles with Metadata to INTERMEDIATE\n",
    "articles_with_content[[\n",
    "        'GOID',\n",
    "        'Title',\n",
    "        'Date',\n",
    "        'Content'\n",
    "]].to_csv('../data/final/artilces_with_content.csv', index=False)"
   ]
  },
  {
   "attachments": {},
   "cell_type": "markdown",
   "metadata": {},
   "source": [
    "# Export as Json for Mongo"
   ]
  },
  {
   "cell_type": "code",
   "execution_count": 1,
   "metadata": {},
   "outputs": [],
   "source": [
    "import csv\n",
    "import json\n",
    "\n",
    "\n",
    "csv_file_path = '../data/final/artilces_with_content.csv'  # Update this to your CSV file path\n",
    "\n",
    "# Open the CSV and read data into a dictionary format\n",
    "data = []\n",
    "with open(csv_file_path, mode='r', encoding='utf-8') as csvfile:\n",
    "    reader = csv.DictReader(csvfile)\n",
    "    for row in reader:\n",
    "        data.append(row)\n",
    "\n",
    "json_file_path = '../data/final/articles_with_content.json'  # Update this to your desired JSON file path\n",
    "\n",
    "# Convert and save the dictionary list to a JSON file\n",
    "with open(json_file_path, mode='w', encoding='utf-8') as jsonfile:\n",
    "    json.dump(data, jsonfile, indent=4)  # `indent=4` for pretty printing\n"
   ]
  },
  {
   "cell_type": "code",
   "execution_count": null,
   "metadata": {},
   "outputs": [],
   "source": []
  }
 ],
 "metadata": {
  "kernelspec": {
   "display_name": "Hackathon_2024-ADjn7pna",
   "language": "python",
   "name": "python3"
  },
  "language_info": {
   "codemirror_mode": {
    "name": "ipython",
    "version": 3
   },
   "file_extension": ".py",
   "mimetype": "text/x-python",
   "name": "python",
   "nbconvert_exporter": "python",
   "pygments_lexer": "ipython3",
   "version": "3.12.1 | packaged by Anaconda, Inc. | (main, Jan 19 2024, 15:44:08) [MSC v.1916 64 bit (AMD64)]"
  },
  "orig_nbformat": 4,
  "vscode": {
   "interpreter": {
    "hash": "23799e209aef547641389b0291214a94bccee1058c0bbacbaa006711bc56d570"
   }
  }
 },
 "nbformat": 4,
 "nbformat_minor": 2
}
