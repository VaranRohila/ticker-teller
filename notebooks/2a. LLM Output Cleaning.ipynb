{
 "cells": [
  {
   "cell_type": "code",
   "execution_count": 1,
   "metadata": {},
   "outputs": [],
   "source": [
    "import pandas as pd"
   ]
  },
  {
   "cell_type": "code",
   "execution_count": 20,
   "metadata": {},
   "outputs": [],
   "source": [
    "search_dict = [\n",
    "    ('Microsoft', 1),\n",
    "    ('Salesforce', 2),\n",
    "    ('Apple',3),\n",
    "    ('Alphabet',4),\n",
    "    ('Google',4),\n",
    "    ('Morgan Stanley', 9),\n",
    "    ('Goldman Sachs',10),\n",
    "    ('JPMorgan',11),\n",
    "    ('Mastercard', 12),\n",
    "    ('General Motors', 13),\n",
    "    ('Boeing', 14),\n",
    "    ('Tesla', 15),\n",
    "    ('Ford', 16)\n",
    "]"
   ]
  },
  {
   "cell_type": "code",
   "execution_count": 45,
   "metadata": {},
   "outputs": [],
   "source": [
    "df = pd.read_csv('../data/intermediate/llm_outputs.csv')"
   ]
  },
  {
   "cell_type": "code",
   "execution_count": 46,
   "metadata": {},
   "outputs": [],
   "source": [
    "df['CID'] = 0\n",
    "for company, key in search_dict:\n",
    "    df.loc[df['company'].str.contains(company, case=False), 'CID'] = key\n",
    "    \n",
    "df = df[df['CID'] != 0]\n",
    "df['sentiment'] = df['sentiment'].astype(float)\n",
    "df = df.iloc[:, [0, -1, 2, 3, 4, 5]]"
   ]
  },
  {
   "cell_type": "code",
   "execution_count": 56,
   "metadata": {},
   "outputs": [],
   "source": [
    "df.to_csv('../data/final/llm_outputs_clean.csv', index=False)"
   ]
  },
  {
   "cell_type": "code",
   "execution_count": 58,
   "metadata": {},
   "outputs": [],
   "source": [
    "articles = pd.read_csv('../data/final/artilces_with_content.csv')"
   ]
  },
  {
   "cell_type": "code",
   "execution_count": 62,
   "metadata": {},
   "outputs": [],
   "source": [
    "final = articles.merge(df, on='GOID')"
   ]
  },
  {
   "cell_type": "code",
   "execution_count": 63,
   "metadata": {},
   "outputs": [],
   "source": [
    "final.to_csv('../data/final/articles_with_llm_outputs.csv', index=False)\n",
    "final.to_json('../data/final/articles_with_llm_outputs.json', orient='records')"
   ]
  },
  {
   "cell_type": "code",
   "execution_count": null,
   "metadata": {},
   "outputs": [],
   "source": []
  }
 ],
 "metadata": {
  "kernelspec": {
   "display_name": "gpu",
   "language": "python",
   "name": "python3"
  },
  "language_info": {
   "codemirror_mode": {
    "name": "ipython",
    "version": 3
   },
   "file_extension": ".py",
   "mimetype": "text/x-python",
   "name": "python",
   "nbconvert_exporter": "python",
   "pygments_lexer": "ipython3",
   "version": "3.9.16"
  },
  "orig_nbformat": 4,
  "vscode": {
   "interpreter": {
    "hash": "15350825b2576c7532755d17b816be6110161b0949fa4660ee9f4bb3baeba5d2"
   }
  }
 },
 "nbformat": 4,
 "nbformat_minor": 2
}
