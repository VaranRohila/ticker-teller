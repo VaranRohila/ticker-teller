{
 "cells": [
  {
   "attachments": {},
   "cell_type": "markdown",
   "metadata": {},
   "source": [
    "# LLM Prompts and Chains"
   ]
  },
  {
   "attachments": {},
   "cell_type": "markdown",
   "metadata": {},
   "source": [
    "### Imports"
   ]
  },
  {
   "cell_type": "code",
   "execution_count": 1,
   "metadata": {},
   "outputs": [],
   "source": [
    "import pandas as pd\n",
    "import numpy as np\n",
    "\n",
    "from tqdm import tqdm\n",
    "import os\n",
    "\n",
    "import openai\n",
    "from dotenv import load_dotenv, find_dotenv\n",
    "\n",
    "\n",
    "_ = load_dotenv(find_dotenv()) # read local .env file\n",
    "openai.api_key = os.environ['OPENAI_API_KEY']"
   ]
  },
  {
   "cell_type": "code",
   "execution_count": 2,
   "metadata": {},
   "outputs": [],
   "source": [
    "from langchain_openai import ChatOpenAI\n",
    "from langchain.prompts import ChatPromptTemplate\n",
    "\n",
    "from langchain.output_parsers import ResponseSchema\n",
    "from langchain.chains import SequentialChain, LLMChain\n",
    "from langchain.output_parsers import StructuredOutputParser"
   ]
  },
  {
   "cell_type": "code",
   "execution_count": 3,
   "metadata": {},
   "outputs": [],
   "source": [
    "# Set Model Version\n",
    "llm_model = 'gpt-3.5-turbo-0125'"
   ]
  },
  {
   "attachments": {},
   "cell_type": "markdown",
   "metadata": {},
   "source": [
    "### Output Response Schema"
   ]
  },
  {
   "cell_type": "code",
   "execution_count": 4,
   "metadata": {},
   "outputs": [],
   "source": [
    "# Sentiment Extraction\n",
    "sentiment_schema = ResponseSchema(name=\"sentiment\",\n",
    "                                description='''Determine the degree of sentiment of the news article with respect to {company}.\n",
    "Output in the range of (-1, 1) where -1 is Negative, and 1 is Positive.''')\n",
    "\n",
    "# Evidence Extraction\n",
    "evidence_schema = ResponseSchema(name=\"evidence\",\n",
    "                                description='''Extract any sentences that provide evidence for the extracted sentiment, and output as a Python List.''')\n",
    "\n",
    "# Stock Movement Extraction\n",
    "stock_movement_schema = ResponseSchema(name=\"stock_movement\",\n",
    "                                description='''Given your expertise in the field, determine stock movement of the {company}.\n",
    "Output as Up or Down.''')\n",
    "\n",
    "# Explination Extraction\n",
    "explaination_schema = ResponseSchema(name=\"explaination\",\n",
    "                                description='''Explain your thoughts and thinking process. Output as string.''')\n",
    "\n",
    "response_schemas = [\n",
    "    sentiment_schema, \n",
    "    evidence_schema,\n",
    "    stock_movement_schema,\n",
    "    explaination_schema\n",
    "]\n",
    "\n",
    "# Output Parsers and Format Instructions for LLM\n",
    "output_parser = StructuredOutputParser.from_response_schemas(response_schemas)\n",
    "format_instructions = output_parser.get_format_instructions()"
   ]
  },
  {
   "attachments": {},
   "cell_type": "markdown",
   "metadata": {},
   "source": [
    "### LLM Chains"
   ]
  },
  {
   "cell_type": "code",
   "execution_count": 5,
   "metadata": {},
   "outputs": [],
   "source": [
    "# 1st Chain\n",
    "llm = ChatOpenAI(temperature=0.0, model=llm_model)\n",
    "\n",
    "# Company Extraction Prompt\n",
    "first_prompt = ChatPromptTemplate.from_template(\n",
    "    '''\n",
    "    You are an expert in the field of finance news, stock market and trading. Which company does the news article talk about majorly? Output only one company name.\n",
    "    article: {text}\n",
    "    '''\n",
    ")\n",
    "\n",
    "# Chain 1\n",
    "chain_one = LLMChain(llm=llm, prompt=first_prompt, output_key='company')"
   ]
  },
  {
   "cell_type": "code",
   "execution_count": 6,
   "metadata": {},
   "outputs": [],
   "source": [
    "# 2nd Chain\n",
    "second_prompt = ChatPromptTemplate.from_template(\n",
    "    \"\"\"\\\n",
    "    You are an expert in analyzing financial news, stock market and trading for {company} given below. For the following financial news article, do the following:\n",
    "\n",
    "    sentiment: Determine the degree of sentiment of the news article with respect to {company}.\n",
    "    Output in the range of (-1, 1) where -1 is Negative, and 1 is Positive.\n",
    "\n",
    "    evidence: Extract any sentences that provide evidence for the extracted sentiment, and output as a Python List.\n",
    "\n",
    "    stock_movement: Given your expertise in the field, determine stock movement of the {company}.\n",
    "    Output as Up or Down.\n",
    "\n",
    "    Explaination: Explain your thoughts and thinking process. Output as string.\n",
    "\n",
    "    article: {text}\n",
    "    {format_instructions}\n",
    "    \"\"\"\n",
    ")\n",
    "\n",
    "# chain 2\n",
    "chain_two = LLMChain(llm=llm, prompt=second_prompt, output_key='json_output')"
   ]
  },
  {
   "cell_type": "code",
   "execution_count": 7,
   "metadata": {},
   "outputs": [],
   "source": [
    "# overall_chain: input = Text \n",
    "# and output= company, json_output\n",
    "overall_chain = SequentialChain(\n",
    "    chains=[chain_one, chain_two],\n",
    "    input_variables=[\"text\", \"format_instructions\"],\n",
    "    output_variables=[\"company\", \"json_output\"],\n",
    "    verbose=False\n",
    ")"
   ]
  },
  {
   "attachments": {},
   "cell_type": "markdown",
   "metadata": {},
   "source": [
    "### Run on All Content"
   ]
  },
  {
   "cell_type": "code",
   "execution_count": 2,
   "metadata": {},
   "outputs": [],
   "source": [
    "df = pd.read_csv('../data/final/artilces_with_content.csv')"
   ]
  },
  {
   "cell_type": "code",
   "execution_count": 13,
   "metadata": {},
   "outputs": [
    {
     "name": "stderr",
     "output_type": "stream",
     "text": [
      "  4%|▍         | 125/2781 [59:28<20:53:19, 28.31s/it]"
     ]
    }
   ],
   "source": [
    "df_outputs = []\n",
    "not_worked = []\n",
    "\n",
    "for i, row in tqdm(df.iterrows(), total=len(df)):\n",
    "    try:\n",
    "        article_text = f'Title: {row['Title']}, Content: {row['Content']}'\n",
    "        outputs = overall_chain.invoke({\n",
    "            'text': article_text,\n",
    "            'format_instructions': format_instructions\n",
    "        })\n",
    "        output_dict = {'GOID': row['GOID'], 'company': outputs['company']}\n",
    "        output_dict.update(output_parser.parse(outputs['json_output']))\n",
    "        df_outputs.append(output_dict)\n",
    "    except:\n",
    "        not_worked.append(row['GOID'])\n",
    "        \n",
    "    if i % 2 == 0:\n",
    "        pd.DataFrame.from_dict(df_outputs).to_csv('../data/final/llm_outputs.csv', index=False)\n",
    "        np.array(not_worked).tofile('../data/final/did_not_work.txt', sep=',')"
   ]
  },
  {
   "attachments": {},
   "cell_type": "markdown",
   "metadata": {},
   "source": [
    "## LLM Prompts"
   ]
  },
  {
   "cell_type": "code",
   "execution_count": null,
   "metadata": {},
   "outputs": [],
   "source": [
    "from langchain.chat_models import ChatOpenAI\n",
    "from langchain.prompts import ChatPromptTemplate\n",
    "\n",
    "from langchain.output_parsers import ResponseSchema\n",
    "from langchain.chains import SequentialChain, LLMChain\n",
    "from langchain.output_parsers import StructuredOutputParser\n",
    "\n",
    "import os\n",
    "import openai\n",
    "\n",
    "import pandas as pd\n",
    "from tqdm import tqdm\n",
    "\n",
    "from dotenv import load_dotenv, find_dotenv\n",
    "_ = load_dotenv(find_dotenv()) # read local .env file\n",
    "openai.api_key = os.environ['OPENAI_API_KEY']\n",
    "\n",
    "# account for deprecation of LLM model\n",
    "import datetime\n",
    "# Get the current date\n",
    "current_date = datetime.datetime.now().date()\n",
    "\n",
    "# Define the date after which the model should be set to \"gpt-3.5-turbo\"\n",
    "target_date = datetime.date(2024, 6, 12)\n",
    "\n",
    "# Set the model variable based on the current date\n",
    "if current_date > target_date:\n",
    "    llm_model = \"gpt-3.5-turbo\"\n",
    "else:\n",
    "    llm_model = \"gpt-3.5-turbo-0301\"\n",
    "\n",
    "chat = ChatOpenAI(temperature=0.0, model=llm_model)\n"
   ]
  },
  {
   "cell_type": "code",
   "execution_count": null,
   "metadata": {},
   "outputs": [],
   "source": [
    "df = pd.read_csv('sf.csv')\n",
    "news_article = df.iloc[0, 1]"
   ]
  },
  {
   "cell_type": "code",
   "execution_count": null,
   "metadata": {},
   "outputs": [],
   "source": [
    "sentiment_schema = ResponseSchema(name=\"sentiment\",\n",
    "                             description=\"What is the degree of sentiment\\\n",
    "                             of the news article? \\\n",
    "                             Answer in the range of (-1, 1) where,\\\n",
    "                             -1 being Negative and \\\n",
    "                             1 being Positive.\")\n",
    "evidence_schema = ResponseSchema(name=\"evidence\",\n",
    "                                      description=\"Extract any\\\n",
    "                                    sentences that provide evidence \\\n",
    "                                    for the sentiment of the article, \\\n",
    "                                    and output them as a \\\n",
    "                                    comma separated Python list.\")\n",
    "prediction_schema = ResponseSchema(name=\"prediction\",\n",
    "                                    description=\"For the company talked \\\n",
    "                                    about in the article, What would be\\\n",
    "                                    the movement of its stock price after the publishing of the article? \\\n",
    "                                    Answer Up if upwards,\\\n",
    "                                    Down if downwards \\\n",
    "                                    and Not Known if not known.\")\n",
    "\n",
    "response_schemas = [sentiment_schema, \n",
    "                    evidence_schema,\n",
    "                    prediction_schema]\n",
    "\n",
    "output_parser = StructuredOutputParser.from_response_schemas(response_schemas)\n",
    "format_instructions = output_parser.get_format_instructions()"
   ]
  },
  {
   "cell_type": "code",
   "execution_count": null,
   "metadata": {},
   "outputs": [
    {
     "data": {
      "text/plain": [
       "6.283799999999999"
      ]
     },
     "metadata": {},
     "output_type": "display_data"
    }
   ],
   "source": [
    "review_template_2 = \"\"\"\\\n",
    "For the following news article, extract the following information:\n",
    "\n",
    "sentiment: What is the sentiment of the news article? \n",
    "Answer in the range of (-1, 1) where, -1 being Negative and 1 being Positive.\n",
    "\n",
    "evidence: Extract any sentences that provide evidence for the sentiment of the article,\n",
    "and output them as a comma separated Python list.\n",
    "\n",
    "prediction: For the company talked about in the article, What would be the movement of its stock price after the publishing of the article?\n",
    "Answer Up if upwards, Down if downwards and Not Known if not known.\n",
    "\n",
    "news article: {text}\n",
    "\n",
    "{format_instructions}\n",
    "\"\"\"\n",
    "\n",
    "prompt = ChatPromptTemplate.from_template(template=review_template_2)\n",
    "\n",
    "messages = prompt.format_messages(text=news_article, \n",
    "                                format_instructions=format_instructions)"
   ]
  },
  {
   "cell_type": "code",
   "execution_count": null,
   "metadata": {},
   "outputs": [],
   "source": [
    "outputs = []\n",
    "output_not_correct = {}\n",
    "for i, row in tqdm(df.iterrows(), total=len(df)):\n",
    "    try:\n",
    "        output_dict = {'GOID': row['GOID']}\n",
    "        messages = prompt.format_messages(text=row['Content'], \n",
    "                                    format_instructions=format_instructions)\n",
    "        response = chat(messages)\n",
    "        output_dict.update(output_parser.parse(response.content))\n",
    "        outputs.append(output_dict)\n",
    "    except:\n",
    "        output_not_correct[row['GOID']] = response.content\n",
    "        \n",
    "    if i == 30:\n",
    "        break"
   ]
  },
  {
   "attachments": {},
   "cell_type": "markdown",
   "metadata": {},
   "source": [
    "## Summary and ticker"
   ]
  },
  {
   "cell_type": "code",
   "execution_count": null,
   "metadata": {},
   "outputs": [],
   "source": [
    "summary_schema = ResponseSchema(name=\"summary\",\n",
    "                             description=\"Write a summary of the news article in at most 200 words.\")\n",
    "company_schema = ResponseSchema(name=\"companies\",\n",
    "                                description='''Out of Apple, Microsoft, Salesforce and Alphabet, which \n",
    "                                companies does the entire news article talks about? \n",
    "                                Output them as a comma separated Python list.''')\n",
    "\n",
    "response_schemas = [summary_schema, \n",
    "                    company_schema]\n",
    "\n",
    "output_parser = StructuredOutputParser.from_response_schemas(response_schemas)\n",
    "format_instructions = output_parser.get_format_instructions()\n",
    "\n",
    "review_template_2 = \"\"\"\\\n",
    "For the following news article, extract the following information:\n",
    "\n",
    "summary: Write a summary of the news article in at most 200 words.\n",
    "\n",
    "companies: Out of Apple, Microsoft, Salesforce and Alphabet, which companies does the entire news article talks about? \n",
    "Output them as a comma separated Python list.\n",
    "\n",
    "news article: {text}\n",
    "\n",
    "{format_instructions}\n",
    "\"\"\""
   ]
  },
  {
   "attachments": {},
   "cell_type": "markdown",
   "metadata": {},
   "source": [
    "## Per Company"
   ]
  },
  {
   "cell_type": "code",
   "execution_count": null,
   "metadata": {},
   "outputs": [],
   "source": [
    "sentiment_schema = ResponseSchema(name=\"sentiment\",\n",
    "                                description='''Determine the degree of sentiment of the news article with respect to {company}.\n",
    "Output in the range of (-1, 1) where -1 is Negative, and 1 is Positive.''')\n",
    "\n",
    "evidence_schema = ResponseSchema(name=\"evidence\",\n",
    "                                description='''Extract any sentences that provide evidence for the extracted sentiment, and output as a Python List.''')\n",
    "\n",
    "stock_movement_schema = ResponseSchema(name=\"stock_movement\",\n",
    "                                description='''Given your expertise in the field, determine stock movement of the {company}.\n",
    "Output as Up or Down.''')\n",
    "\n",
    "explaination_schema = ResponseSchema(name=\"explaination\",\n",
    "                                description='''Explain your thoughts and thinking process. Output as string.''')\n",
    "\n",
    "response_schemas = [sentiment_schema, \n",
    "                    evidence_schema,\n",
    "                    stock_movement_schema,\n",
    "                    explaination_schema\n",
    "                   ]\n",
    "\n",
    "output_parser = StructuredOutputParser.from_response_schemas(response_schemas)\n",
    "format_instructions = output_parser.get_format_instructions()\n",
    "\n",
    "review_template_2 = \"\"\"\\\n",
    "You are an expert in analyzing financial news, stock market and trading for {company} given below. For the following financial news article, do the following:\n",
    "\n",
    "sentiment: Determine the degree of sentiment of the news article with respect to {company}.\n",
    "Output in the range of (-1, 1) where -1 is Negative, and 1 is Positive.\n",
    "\n",
    "evidence: Extract any sentences that provide evidence for the extracted sentiment, and output as a Python List.\n",
    "\n",
    "stock_movement: Given your expertise in the field, determine stock movement of the {company}.\n",
    "Output as Up or Down.\n",
    "\n",
    "Explaination: Explain your thoughts and thinking process. Output as string.\n",
    "\n",
    "article: {text}\n",
    "{format_instructions}\n",
    "\"\"\""
   ]
  },
  {
   "cell_type": "code",
   "execution_count": null,
   "metadata": {},
   "outputs": [],
   "source": [
    "apple_template = \"\"\"You are an expert in analyzing financial news, stock market and trading for Apple. For the following financial news article, do the following:\n",
    "\n",
    "sentiment: Determine the degree of sentiment of the news article with respect to Apple.\n",
    "Output in the range of (-1, 1) where -1 is Negative, and 1 is Positive.\n",
    "\n",
    "evidence: Extract any sentences that provide evidence for the extracted sentiment, and output as a Python List.\n",
    "\n",
    "stock_movement: Given your expertise in the field, determine stock movement of the Apple.\n",
    "Output as Up or Down.\n",
    "\n",
    "Explaination: Explain your thoughts and thinking process. Output as string.\n",
    "\n",
    "article: {text}\n",
    "{format_instructions}\"\"\"\n",
    "\n",
    "\n",
    "alphabet_template = \"\"\"You are an expert in analyzing financial news, stock market and trading for Alphabet. For the following financial news article, do the following:\n",
    "\n",
    "sentiment: Determine the degree of sentiment of the news article with respect to Alphabet.\n",
    "Output in the range of (-1, 1) where -1 is Negative, and 1 is Positive.\n",
    "\n",
    "evidence: Extract any sentences that provide evidence for the extracted sentiment, and output as a Python List.\n",
    "\n",
    "stock_movement: Given your expertise in the field, determine stock movement of the Alphabet.\n",
    "Output as Up or Down.\n",
    "\n",
    "Explaination: Explain your thoughts and thinking process. Output as string.\n",
    "\n",
    "article: {text}\n",
    "{format_instructions}\"\"\"\n",
    "\n",
    "microsoft_template = \"\"\"You are an expert in analyzing financial news, stock market and trading for Microsoft. For the following financial news article, do the following:\n",
    "\n",
    "sentiment: Determine the degree of sentiment of the news article with respect to Microsoft.\n",
    "Output in the range of (-1, 1) where -1 is Negative, and 1 is Positive.\n",
    "\n",
    "evidence: Extract any sentences that provide evidence for the extracted sentiment, and output as a Python List.\n",
    "\n",
    "stock_movement: Given your expertise in the field, determine stock movement of the Microsoft.\n",
    "Output as Up or Down.\n",
    "\n",
    "Explaination: Explain your thoughts and thinking process. Output as string.\n",
    "\n",
    "article: {text}\n",
    "{format_instructions}\"\"\"\n",
    "\n",
    "\n",
    "salesforce_template = \"\"\"You are an expert in analyzing financial news, stock market and trading for Salesforce. For the following financial news article, do the following:\n",
    "\n",
    "sentiment: Determine the degree of sentiment of the news article with respect to Salesforce.\n",
    "Output in the range of (-1, 1) where -1 is Negative, and 1 is Positive.\n",
    "\n",
    "evidence: Extract any sentences that provide evidence for the extracted sentiment, and output as a Python List.\n",
    "\n",
    "stock_movement: Given your expertise in the field, determine stock movement of the Salesforce.\n",
    "Output as Up or Down.\n",
    "\n",
    "Explaination: Explain your thoughts and thinking process. Output as string.\n",
    "\n",
    "article: {text}\n",
    "{format_instructions}\"\"\""
   ]
  },
  {
   "attachments": {},
   "cell_type": "markdown",
   "metadata": {},
   "source": [
    "## Sequential Chains"
   ]
  },
  {
   "cell_type": "code",
   "execution_count": null,
   "metadata": {},
   "outputs": [],
   "source": [
    "sentiment_schema = ResponseSchema(name=\"sentiment\",\n",
    "                                description='''Determine the degree of sentiment of the news article with respect to {company}.\n",
    "Output in the range of (-1, 1) where -1 is Negative, and 1 is Positive.''')\n",
    "\n",
    "evidence_schema = ResponseSchema(name=\"evidence\",\n",
    "                                description='''Extract any sentences that provide evidence for the extracted sentiment, and output as a Python List.''')\n",
    "\n",
    "stock_movement_schema = ResponseSchema(name=\"stock_movement\",\n",
    "                                description='''Given your expertise in the field, determine stock movement of the {company}.\n",
    "Output as Up or Down.''')\n",
    "\n",
    "explaination_schema = ResponseSchema(name=\"explaination\",\n",
    "                                description='''Explain your thoughts and thinking process. Output as string.''')\n",
    "\n",
    "response_schemas = [sentiment_schema, \n",
    "                    evidence_schema,\n",
    "                    stock_movement_schema,\n",
    "                    explaination_schema\n",
    "                   ]\n",
    "\n",
    "output_parser = StructuredOutputParser.from_response_schemas(response_schemas)\n",
    "format_instructions = output_parser.get_format_instructions()\n",
    "\n",
    "review_template_2 = \"\"\"\\\n",
    "You are an expert in analyzing financial news for {company} given below. For the following financial news article, do the following:\n",
    "\n",
    "sentiment: Determine the degree of sentiment of the news article with respect to {company}.\n",
    "Output in the range of (-1, 1) where -1 is Negative, and 1 is Positive.\n",
    "\n",
    "evidence: Extract any sentences that provide evidence for the extracted sentiment, and output as a Python List.\n",
    "\n",
    "stock_movement: Given your expertise in the field, determine stock movement of the {company}.\n",
    "Output as Up or Down.\n",
    "\n",
    "Explaination: Explain your thoughts and thinking process. Output as string.\n",
    "\n",
    "article: {text}\n",
    "{format_instructions}\n",
    "\"\"\""
   ]
  },
  {
   "cell_type": "code",
   "execution_count": null,
   "metadata": {},
   "outputs": [],
   "source": [
    "llm = ChatOpenAI(temperature=0.0, model=llm_model)\n",
    "\n",
    "# prompt template 1\n",
    "first_prompt = ChatPromptTemplate.from_template(\n",
    "    '''\n",
    "    You are an expert in the field of finance news, stock market and trading. Which company does the news article talk about majorly? Output only one company name.\n",
    "    article: {text}\n",
    "    '''\n",
    ")\n",
    "\n",
    "# Chain 1\n",
    "chain_one = LLMChain(llm=llm, prompt=first_prompt, output_key='company')"
   ]
  },
  {
   "cell_type": "code",
   "execution_count": null,
   "metadata": {},
   "outputs": [],
   "source": [
    "# prompt template 2\n",
    "second_prompt = ChatPromptTemplate.from_template(\n",
    "    \"\"\"\\\n",
    "    You are an expert in analyzing financial news, stock market and trading for {company} given below. For the following financial news article, do the following:\n",
    "\n",
    "    sentiment: Determine the degree of sentiment of the news article with respect to {company}.\n",
    "    Output in the range of (-1, 1) where -1 is Negative, and 1 is Positive.\n",
    "\n",
    "    evidence: Extract any sentences that provide evidence for the extracted sentiment, and output as a Python List.\n",
    "\n",
    "    stock_movement: Given your expertise in the field, determine stock movement of the {company}.\n",
    "    Output as Up or Down.\n",
    "\n",
    "    Explaination: Explain your thoughts and thinking process. Output as string.\n",
    "\n",
    "    article: {text}\n",
    "    {format_instructions}\n",
    "    \"\"\"\n",
    ")\n",
    "# chain 2\n",
    "chain_two = LLMChain(llm=llm, prompt=second_prompt, output_key='json_output')"
   ]
  },
  {
   "cell_type": "code",
   "execution_count": null,
   "metadata": {},
   "outputs": [],
   "source": [
    "# overall_chain: input= Review \n",
    "# and output= English_Review,summary, followup_message\n",
    "overall_chain = SequentialChain(\n",
    "    chains=[chain_one, chain_two],\n",
    "    input_variables=[\"text\", \"format_instructions\"],\n",
    "    output_variables=[\"company\", \"json_output\"],\n",
    "    verbose=False\n",
    ")"
   ]
  },
  {
   "cell_type": "code",
   "execution_count": null,
   "metadata": {},
   "outputs": [],
   "source": [
    "outputs = overall_chain({\n",
    "    'text': df.iloc[16, 1],\n",
    "    'format_instructions': format_instructions\n",
    "})\n",
    "\n",
    "print(outputs['company'], output_parser.parse(outputs['json_output']))"
   ]
  },
  {
   "cell_type": "code",
   "execution_count": null,
   "metadata": {},
   "outputs": [],
   "source": [
    "df_outputs = []\n",
    "not_worked = []\n",
    "\n",
    "for i, row in tqdm(df.iterrows(), total=len(df)):\n",
    "    try:\n",
    "        outputs = overall_chain({\n",
    "            'text': row['Content'],\n",
    "            'format_instructions': format_instructions\n",
    "        })\n",
    "        output_dict = {'GOID': row['GOID'], 'company': outputs['company']}\n",
    "        output_dict.update(output_parser.parse(outputs['json_output']))\n",
    "        df_outputs.append(output_dict)\n",
    "    except:\n",
    "        not_worked.append(row['GOID'])\n",
    "        \n",
    "    if i == 2:\n",
    "        break"
   ]
  }
 ],
 "metadata": {
  "kernelspec": {
   "display_name": "Hackathon_2024-ADjn7pna",
   "language": "python",
   "name": "python3"
  },
  "language_info": {
   "codemirror_mode": {
    "name": "ipython",
    "version": 3
   },
   "file_extension": ".py",
   "mimetype": "text/x-python",
   "name": "python",
   "nbconvert_exporter": "python",
   "pygments_lexer": "ipython3",
   "version": "3.12.1 | packaged by Anaconda, Inc. | (main, Jan 19 2024, 15:44:08) [MSC v.1916 64 bit (AMD64)]"
  },
  "orig_nbformat": 4,
  "vscode": {
   "interpreter": {
    "hash": "23799e209aef547641389b0291214a94bccee1058c0bbacbaa006711bc56d570"
   }
  }
 },
 "nbformat": 4,
 "nbformat_minor": 2
}
